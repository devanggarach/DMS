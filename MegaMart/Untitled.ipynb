{
 "cells": [
  {
   "cell_type": "code",
   "execution_count": 22,
   "metadata": {},
   "outputs": [],
   "source": [
    "from scipy.ndimage import rotate\n",
    "# from scipy.misc import face\n",
    "from matplotlib import pyplot as plt\n",
    "from io import  BytesIO #Qr generate\n",
    "from  PIL import Image, ImageDraw, ImageFont #Qr generate\n",
    "# from django.contrib.auth.models import User\n",
    "import cv2\n",
    "import pyqrcode \n",
    "import png \n",
    "from pyqrcode import QRCode \n",
    "pname=\"Hello\"\n",
    "pqrcode=\"1234567890\"\n",
    "url = pyqrcode.create(pqrcode)\n",
    "fname = f'{pname}_{pqrcode}.png'\n",
    "# vcode=self.pqrcode\n",
    "buffer = BytesIO()\n",
    "businessname=\"MegaMart\"\n",
    "# url.save(buffer,'PNG')\n",
    "buffer = BytesIO()\n",
    "url.png(buffer, scale = 4)\n",
    "img=Image.open(buffer,'r')\n",
    "\n",
    "transposed  = img.transpose(Image.ROTATE_90)\n",
    "transposed.show()\n",
    "# rotated     = colorImage.rotate(45)\n",
    "\n",
    "# rot = rotate(buffer, 90, reshape=False)\n",
    "\n",
    "# fig, ax = plt.subplots(1, 2)\n",
    "# ax[0].imshow(img)\n",
    "# ax[1].imshow(rot)"
   ]
  }
 ],
 "metadata": {
  "kernelspec": {
   "display_name": "Python 3",
   "language": "python",
   "name": "python3"
  },
  "language_info": {
   "codemirror_mode": {
    "name": "ipython",
    "version": 3
   },
   "file_extension": ".py",
   "mimetype": "text/x-python",
   "name": "python",
   "nbconvert_exporter": "python",
   "pygments_lexer": "ipython3",
   "version": "3.8.2"
  }
 },
 "nbformat": 4,
 "nbformat_minor": 4
}
